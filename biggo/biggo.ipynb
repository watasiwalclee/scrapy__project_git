{
 "cells": [
  {
   "cell_type": "markdown",
   "metadata": {},
   "source": [
    "# 1. Draw an ASCII ART Christmas tree in Python style (do not import any library)"
   ]
  },
  {
   "cell_type": "code",
   "execution_count": 1,
   "metadata": {},
   "outputs": [
    {
     "name": "stdout",
     "output_type": "stream",
     "text": [
      "          *          \n",
      "         ***         \n",
      "        *****        \n",
      "       *******       \n",
      "      *********      \n",
      "     ***********     \n",
      "    *************    \n",
      "      *********      \n",
      "     ***********     \n",
      "    *************    \n",
      "     ***********     \n",
      "    *************    \n",
      "   ***************   \n",
      "  *****************  \n",
      "         ***         \n",
      "         ***         \n",
      "         ***         \n"
     ]
    }
   ],
   "source": [
    "def test_tree(start,end,width=None):\n",
    "    if width == None: width = end\n",
    "    tree_len = 2*width+1\n",
    "    for i in range(start,end):\n",
    "        leaf = '*'*(2*i+1)\n",
    "        print(leaf.center(tree_len))\n",
    "\n",
    "total_len = 10\n",
    "section = [(0,7),(4,7),(5,9)]\n",
    "for start,end in section: test_tree(start,end,total_len)\n",
    "# 樹幹\n",
    "center_len = 2*total_len+1\n",
    "for i in range(3): print('***'.center(center_len))"
   ]
  },
  {
   "cell_type": "markdown",
   "metadata": {},
   "source": [
    "# 2. Please use Python multiple processes(or threads) to create a class to start 3 journeys and print out 1, 2 and 3 processes respectively."
   ]
  },
  {
   "cell_type": "code",
   "execution_count": 2,
   "metadata": {},
   "outputs": [
    {
     "name": "stdout",
     "output_type": "stream",
     "text": [
      "thread 1\n",
      "thread 2\n",
      "thread 3\n",
      "done\n"
     ]
    }
   ],
   "source": [
    "import threading\n",
    "\n",
    "class test():\n",
    "    def __init__(self):\n",
    "        # 物件建立後隨即建立3個thread\n",
    "        self.job_list = [threading.Thread(target=self.print_job,args=(i,)) for i in range(1,3+1)]\n",
    "    \n",
    "    def print_job(self,n):\n",
    "        print('thread {}'.format(n))\n",
    "    \n",
    "    def start_jobs(self):\n",
    "        # 啟動thread\n",
    "        for tj in self.job_list: tj.start()\n",
    "        # 等待所有thread執行完畢\n",
    "        for tj in self.job_list: tj.join()\n",
    "        print('done')\n",
    "\n",
    "t = test()\n",
    "t.start_jobs()"
   ]
  },
  {
   "cell_type": "markdown",
   "metadata": {},
   "source": [
    "# 3. What is pypy? (in 10 words)"
   ]
  },
  {
   "cell_type": "markdown",
   "metadata": {},
   "source": [
    "A : python應用程式的直譯器"
   ]
  },
  {
   "cell_type": "markdown",
   "metadata": {},
   "source": [
    "# 4. Try to finish this project via Python:\n",
    "Use Wikipedia Simplified / Traditional Chinese conversion tables\n",
    "https://phabricator.wikimedia.org/source/mediawiki/browse/master/languages/data/ZhConversion.php\n",
    "Write a crawler to crawl below EC site, translate product title to Simplified Chinese, print title and price out in one raw.\n",
    "https://shopee.tw/%E7%8E%A9%E5%85%B7-cat.75.2185?brands=5005&locations=-1&page=0&ratingFilter=4\n"
   ]
  },
  {
   "cell_type": "markdown",
   "metadata": {},
   "source": [
    "## part 1 : 整理字體轉換dict"
   ]
  },
  {
   "cell_type": "code",
   "execution_count": 3,
   "metadata": {},
   "outputs": [],
   "source": [
    "import requests\n",
    "import json\n",
    "\n",
    "# 將繁簡對照整理成json檔\n",
    "\n",
    "url = 'https://phab.wmfusercontent.org/file/data/onmszjwl4lurdgdsmsxi/PHID-FILE-3vsdvdc6qmiia5yg5ask/ZhConversion.php'\n",
    "res = requests.get(url)\n",
    "resp_str = res.text.split('\\n')\n",
    "\n",
    "with open('output.json','w',encoding='utf8') as f:\n",
    "    output_dict = {}\n",
    "    for string_line in resp_str:\n",
    "        if '=>' in string_line:\n",
    "            sl = string_line.replace(\"'\",'')\n",
    "            sl_list = sl[:-1].split(' => ')\n",
    "            try:\n",
    "                # 如果後者為繁體，則會將繁體字作為key，否則會進入except\n",
    "                signal = sl_list[1].decode('big5')\n",
    "                output_dict[sl_list[1]] = sl_list[0]\n",
    "            except:\n",
    "                output_dict[sl_list[0]] = sl_list[1]\n",
    "    \n",
    "    # 將Dict輸出成json檔案\n",
    "    json.dump(output_dict,f,indent=4)"
   ]
  },
  {
   "cell_type": "markdown",
   "metadata": {},
   "source": [
    "## part 2 : 爬取商品資訊且轉換標題"
   ]
  },
  {
   "cell_type": "markdown",
   "metadata": {},
   "source": [
    "### 分析網站\n",
    "本次爬蟲目標為蝦皮購物的玩具商品\n",
    "網址為https://shopee.tw/%E7%8E%A9%E5%85%B7-cat.75.2185?brands=5005&locations=-1&page=0&ratingFilter=4 \\\n",
    "經觀察後，商品的資料來源為https://shopee.tw/api/v2/search_items/\n",
    "透過傳遞**brands**, **locations**, **page**及**ratingFilter**等主參數來獲得符合條件的商品。\\\n",
    "而requests的對象則為https://shopee.tw/api/v2/search_items/?brandids=5005&by=relevancy&fe_categoryids=2185&limit=50&locations=-1&newest=0&order=desc&page_type=search&rating_filter=4&version=2"
   ]
  },
  {
   "cell_type": "code",
   "execution_count": 6,
   "metadata": {
    "scrolled": false
   },
   "outputs": [
    {
     "name": "stdout",
     "output_type": "stream",
     "text": [
      "價格: 198.0 最低價: 198.0 最高價: 980.0 標題: 现货 TOMY 口袋妖怪 宠物小精灵神奇宝贝精灵球皮卡丘小火龙杰尼龟 8cm触碰可翻转 爆炸精灵球整玩具 时尚最夯小物\n",
      "價格: 237.0 最低價: 237.0 最高價: 837.0 標題: ‘现货’ 神奇宝贝 扭蛋 伊布皮卡丘 伊布 皮卡丘 呆河马 可达鸭 呆呆兽 变装\n",
      "價格: 99.0 最低價: 99.0 最高價: 299.0 標題: 空运 TOMY口袋妖怪小火龙杰尼龟妙蛙种子雷丘皮丘皮卡丘手办\n",
      "價格: 249.0 最低價: 249.0 最高價: 249.0 標題: 佳佳玩具 ----- 日本进口 神奇宝贝 宝可梦 Pokemon 手表 数码手表 卡通手表 【05391197】\n",
      "價格: 50.0 最低價: 50.0 最高價: 100.0 標題: W1111 宝可梦 食玩 7-11 限定 磁铁 皮卡丘杰尼龟妙蛙种子泪眼蜥炎兔儿胖丁暴鲤龙敲音猴 不含软糖 现货\n",
      "價格: 350.0 最低價: 350.0 最高價: 1680.0 標題: 现货TOMY 神奇宝贝宝可梦Pokemon Go胡帕z神固拉多白龙黑龙X黑酋雷姆裂空座盖欧卡MEGA海皇牙固拉多模型手办\n",
      "價格: 20.0 最低價: 20.0 最高價: 40.0 標題: 宝可梦 全新公仔 只拆开 耿鬼 谜拟Q 呆呆兽 可达鸭 伊布 鲤鱼王 波加曼 皮卡丘 妙蛙种子 太阳伊布 杰尼龟 小火龙\n",
      "價格: 250.0 最低價: 250.0 最高價: 250.0 標題: §小俏妞部屋§ [现货/单款区] 日版POLYGO 千值练 精灵宝可梦 皮卡丘耿鬼小火龙杰尼龟妙蛙种子呆呆兽 盒玩\n",
      "價格: 220.0 最低價: 220.0 最高價: 999.0 標題: 【DS变装皮卡丘 黄昏之鬃、拂晓之翼、奈克洛兹玛、胡帕、波尔凯尼恩】立体图鉴GK◆精灵宝可梦/神奇宝贝★湖畔蓝鳄☆\n",
      "價格: 200.0 最低價: 200.0 最高價: 220.0 標題: 一番赏 伊布 宝可梦 EIEVUI&CRYSTAL DROPS G赏F赏\n",
      "價格: 105.0 最低價: 105.0 最高價: 105.0 標題: 百变怪 第七弹 P7 扭蛋 转蛋 宝可梦 神奇宝贝中心 限定\n",
      "價格: 120.0 最低價: 120.0 最高價: 120.0 標題: 跳楼拼ㄌ 赔钱卖日本进口全新正版  精灵 宝可梦 卡比兽 扭蛋 转蛋 皮卡丘 公仔 毛辫羊 走路草 小卡比兽 神奇宝贝\n",
      "價格: 100.0 最低價: 100.0 最高價: 100.0 標題: 扭蛋❤️CAPCHARA 神奇宝贝组合扭蛋转蛋😍皮卡丘 伊布 波加曼 木木枭\n",
      "價格: 430.0 最低價: 430.0 最高價: 430.0 標題: 神奇宝贝-宝可梦-扭蛋\n",
      "價格: 209.0 最低價: 209.0 最高價: 775.0 標題: DC正义联盟X变装皮卡丘【蝙蝠侠、超人、神力女超人、闪电侠、水行侠、钢骨】神奇宝贝复仇者联盟漫威钢铁人美国队长索尔小丑\n",
      "價格: 200.0 最低價: 200.0 最高價: 200.0 標題: 神奇宝贝 伊布变装 转蛋 扭蛋系列\n",
      "價格: 90.0 最低價: 90.0 最高價: 90.0 標題: 百变怪 扭蛋 转蛋 第八弹 神奇宝贝中心 第8代\n",
      "價格: 110.0 最低價: 110.0 最高價: 435.0 標題: ‘预购’神奇宝贝 果然翁 娃娃 吊饰 证件套 小包 资料夹 手机壳 吊饰 伊布 皮卡丘 百变怪 蜜蜂\n",
      "價格: 320.0 最低價: 320.0 最高價: 320.0 標題: 🍀绿の铺✨‼️现货‼️ “超梦” Pokemon 神奇宝贝变形球 宝可梦✨\n",
      "價格: 200.0 最低價: 200.0 最高價: 450.0 標題: 单款现货 宝可梦 毛茸茸布偶游行 皮卡丘 日本宝可梦中心 盒玩 植绒 绒毛盒玩 pokemon 伊布 乘龙 呆呆兽 六尾\n",
      "價格: 399.0 最低價: 399.0 最高價: 399.0 標題: 现货 日本原单 口袋妖怪 PC中心 宠物小精灵TOMY伊布系列公仔冰精灵仙子精灵太阳精灵叶精灵水精灵火精灵月精灵生日礼\n",
      "價格: 150.0 最低價: 150.0 最高價: 699.0 標題: 日本精品玩具创世神阿尔宙斯中號公仔手扳雷公炎帝水君礼物皮卡丘卡比兽帕路奇犽蜥蜴王日神班吉拉火焰鸟水督洛奇亚凤凰超梦帝牙\n",
      "價格: 66.0 最低價: 66.0 最高價: 99.0 標題: 《Tz购 年前特卖现货》精灵宝可梦+卡娜赫拉 -咚咚鼠.乐天河童.不良蛙.穿著熊\n",
      "價格: 200.0 最低價: 200.0 最高價: 290.0 標題: 【宝可梦饲育球4】宝可梦 饲育生态球 摆饰 盒玩 第四代 Pokemon 日本正品 该该贝比日本精品 ☆\n",
      "價格: 70.0 最低價: 70.0 最高價: 70.0 標題: 跳楼拼ㄌ赔钱卖 宝可梦 精灵 宝贝 皮卡丘 咚咚鼠 顽皮熊猫 皮丘 布鲁 跳舞 公仔 扭蛋机 转蛋机  转蛋 扭蛋\n",
      "價格: 70.0 最低價: 70.0 最高價: 70.0 標題: 现货 日版 食玩 可指定球形 《精灵宝可梦 神奇宝贝》宝贝球+小公仔 我们的伙伴 盒玩\n",
      "價格: 20.0 最低價: 20.0 最高價: 20.0 標題: 【艾睿克玩具仓库】神奇宝贝 精灵宝可梦 指偶/公仔/玩偶(沼跃鱼/森林蜥蜴/小火焰猴/烈焰猴/皮可西/水水獭/拉鲁拉斯)\n",
      "價格: 45.0 最低價: 45.0 最高價: 45.0 標題: 【售】精灵宝可梦 神奇宝贝 第二弹 7-11限定 磁铁\n",
      "價格: 350.0 最低價: 350.0 最高價: 550.0 標題: 【讯地ノ心】宝可梦中心 ●はなびらのまい - 花扇之踴● 皮卡丘 京都主题系列 合金吊饰/限定徽章\n",
      "價格: 130.0 最低價: 130.0 最高價: 425.0 標題: 🍃日版 神奇宝贝中心限定 🍃百变怪第七弹🕯️ 叶精灵 冰精灵 烛光灵 梦妖 毒贝比 百变怪扭蛋\n",
      "價格: 60.0 最低價: 60.0 最高價: 60.0 標題: 【米胧家】现货 ❗️ 磁铁 排排站 神奇宝贝 排队 宝可梦\n",
      "價格: 399.0 最低價: 399.0 最高價: 599.0 標題: 现货 日系口袋妖怪儿童成人1000片木质拼图300-500片动漫神奇宝贝宠物小精灵皮卡丘伊布家族喷火龙裂空座固拉多洛奇亚\n",
      "價格: 350.0 最低價: 350.0 最高價: 840.0 標題: 宝可梦 日本 中心限定 晚安 君 啾 oyasumi chu 联名 转蛋 全新不拆蛋壳 一套六只 现货\n",
      "價格: 60.0 最低價: 60.0 最高價: 60.0 標題: 【贝菈】精灵宝可梦 滚毛线 毛线球 扭蛋 皮卡丘 伊布 六尾 迷拟Q 火斑喵\n",
      "價格: 100.0 最低價: 100.0 最高價: 150.0 標題: 卡娜赫拉皮卡丘精灵宝可梦扭蛋\n",
      "價格: 220.0 最低價: 220.0 最高價: 1100.0 標題: 【DS变装皮卡丘 鬼灭之刃】立体图鉴GK◆精灵宝可梦/神奇宝贝★湖畔蓝鳄☆\n",
      "價格: 250.0 最低價: 250.0 最高價: 1050.0 標題: Mega变装皮卡丘【烈空坐、盖欧卡、固拉多、拉帝亚斯、拉帝欧斯、雷电兽】神奇宝贝立体图鉴精灵宝可梦◆非GK吊卡扭蛋转蛋\n",
      "價格: 200.0 最低價: 200.0 最高價: 200.0 標題: 【代购】日本正版🇯🇵2019神奇宝贝中心限定《迷你拼图扭蛋盒玩》皮卡丘夜间游行 全十种类 箱购 盒抽\n",
      "價格: 140.0 最低價: 140.0 最高價: 550.0 標題: Tretta珍藏弹&01&02弹“金超梦y金胡帕金烈空座金酋雷姆黑烈空座黑胡帕盖欧卡z小智皮卡丘金阿尔宙斯金基格尔德z”\n",
      "價格: 250.0 最低價: 250.0 最高價: 650.0 標題: 【刺猬蹦蹦蹦】现货 RE-MENT 盒玩 宝可梦宝贝球盆景品 P6 神奇宝贝 水晶球 炎帝 梦幻 美丽花 小磁怪 全6款\n",
      "價格: 290.0 最低價: 290.0 最高價: 290.0 標題: 【现货】日本 日版 Rement 精灵宝可梦 宝可梦 神奇宝贝 仙子伊布 生态球 四季 樱花 盒玩 食玩 单售需凑团\n",
      "價格: 200.0 最低價: 200.0 最高價: 200.0 標題: *小仔的玩具窝*皮卡丘大游行2-夏日戏水 单售区\n",
      "價格: 230.0 最低價: 230.0 最高價: 350.0 標題: 【刺猬蹦蹦蹦】现货 RE-MENT 盒玩 精灵宝可梦桌上小物so cute篇 神奇宝贝 桌上小物 文具组 全8款\n",
      "價格: 150.0 最低價: 150.0 最高價: 180.0 標題: 🎈零售区现货🎈~🇯🇵神奇宝贝中心【百变怪 第8弹】精灵宝可梦 神奇宝贝 皮卡丘 宝可梦 扭蛋 转蛋 摆饰 疗愈\n",
      "價格: 70.0 最低價: 70.0 最高價: 70.0 標題: 神奇宝贝 精灵宝可梦 指偶 盒玩 小火龙 火恐龙 喷火龙\n",
      "價格: 200.0 最低價: 200.0 最高價: 300.0 標題: 神奇宝贝 宝可梦 百变怪 转蛋 杰尼龟 小火龙 蚊香蝌蚪 皮丘 耿鬼\n",
      "價格: 150.0 最低價: 150.0 最高價: 150.0 標題: 神奇宝贝 精灵宝可梦  剧场版 超梦的逆袭 球玩 单售款－白海狮款\n",
      "價格: 250.0 最低價: 250.0 最高價: 250.0 標題: 宠物小精灵公仔 宝可梦 神奇宝贝 鬼斯-鬼斯通-耿鬼TOMY宠物小精灵手办模型口袋妖怪稀有赠品版MC耿鬼/mega白耿鬼\n",
      "價格: 105.0 最低價: 105.0 最高價: 315.0 標題: (挑款)日本 宝可梦中心 扭蛋 OYASUMI CHU 休息中 休眠 睡眠 皮卡丘 呆呆兽 不良蛙 喵喵 幼基\n",
      "價格: 120.0 最低價: 120.0 最高價: 120.0 標題: 哩扣哩扣＊现货 日本宝可梦中心限定 百变怪 第七弹 梦妖 叶伊布 冰伊布 烛光灵 毒贝比 一套 单售\n"
     ]
    }
   ],
   "source": [
    "import requests\n",
    "import json\n",
    "\n",
    "# 載入先前處理好的繁簡對照json\n",
    "with open('output.json','r',encoding='utf-8') as f:\n",
    "    translate_json = json.load(f)\n",
    "\n",
    "url = 'https://shopee.tw/api/v2/search_items/?brandids=5005&by=relevancy&fe_categoryids=2185&limit=50&locations=-1&newest=0&order=desc&page_type=search&rating_filter=4&version=2'\n",
    "\n",
    "# 設置header\n",
    "headers = {\n",
    "    'referer': 'https://shopee.tw/%E7%8E%A9%E5%85%B7-cat.75.2185?brands=5005&locations=-1&page=0&ratingFilter=4',\n",
    "    'user-agent': 'Mozilla/5.0 (Windows NT 10.0; Win64; x64) AppleWebKit/537.36 (KHTML, like Gecko) Chrome/84.0.4147.105 Safari/537.36',\n",
    "}\n",
    "res = requests.get(url,headers=headers)\n",
    "data_json = json.loads(res.text)\n",
    "for d in data_json['items']:\n",
    "    title = d['name']\n",
    "    price = d['price']/100000\n",
    "    price_min = d['price_min']/100000\n",
    "    price_max = d['price_max']/100000\n",
    "    for s in title:\n",
    "        # 如果標題文字存在於轉換字典中，則將繁體字轉換成簡體字\n",
    "        if s in translate_json: title = title.replace(s,translate_json[s])\n",
    "    print('價格: {}'.format(price),'最低價: {}'.format(price_min),'最高價: {}'.format(price_max),'標題: {}'.format(title))"
   ]
  }
 ],
 "metadata": {
  "kernelspec": {
   "display_name": "Python 3",
   "language": "python",
   "name": "python3"
  },
  "language_info": {
   "codemirror_mode": {
    "name": "ipython",
    "version": 3
   },
   "file_extension": ".py",
   "mimetype": "text/x-python",
   "name": "python",
   "nbconvert_exporter": "python",
   "pygments_lexer": "ipython3",
   "version": "3.7.7"
  }
 },
 "nbformat": 4,
 "nbformat_minor": 4
}
